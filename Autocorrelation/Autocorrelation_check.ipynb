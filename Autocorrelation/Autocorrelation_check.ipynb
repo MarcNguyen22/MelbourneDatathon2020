{
 "cells": [
  {
   "cell_type": "code",
   "execution_count": 3,
   "metadata": {},
   "outputs": [],
   "source": [
    "import matplotlib.pyplot as plt\n",
    "import statsmodels.api as sm\n",
    "import pandas as pd"
   ]
  },
  {
   "cell_type": "code",
   "execution_count": 4,
   "metadata": {},
   "outputs": [],
   "source": [
    "#Load the data\n",
    "data=pd.read_csv(\"../AEMO/Vic_Demand.csv\")"
   ]
  },
  {
   "cell_type": "code",
   "execution_count": 5,
   "metadata": {},
   "outputs": [
    {
     "data": {
      "text/html": [
       "<div>\n",
       "<style scoped>\n",
       "    .dataframe tbody tr th:only-of-type {\n",
       "        vertical-align: middle;\n",
       "    }\n",
       "\n",
       "    .dataframe tbody tr th {\n",
       "        vertical-align: top;\n",
       "    }\n",
       "\n",
       "    .dataframe thead th {\n",
       "        text-align: right;\n",
       "    }\n",
       "</style>\n",
       "<table border=\"1\" class=\"dataframe\">\n",
       "  <thead>\n",
       "    <tr style=\"text-align: right;\">\n",
       "      <th></th>\n",
       "      <th>Unnamed: 0</th>\n",
       "      <th>Year</th>\n",
       "      <th>Month_int</th>\n",
       "      <th>Day_int</th>\n",
       "      <th>Hour_int</th>\n",
       "      <th>Minute_int</th>\n",
       "      <th>TOTALDEMAND</th>\n",
       "    </tr>\n",
       "  </thead>\n",
       "  <tbody>\n",
       "    <tr>\n",
       "      <th>0</th>\n",
       "      <td>1197</td>\n",
       "      <td>1998</td>\n",
       "      <td>12</td>\n",
       "      <td>7</td>\n",
       "      <td>2</td>\n",
       "      <td>0</td>\n",
       "      <td>2239.46200</td>\n",
       "    </tr>\n",
       "    <tr>\n",
       "      <th>1</th>\n",
       "      <td>1198</td>\n",
       "      <td>1998</td>\n",
       "      <td>12</td>\n",
       "      <td>7</td>\n",
       "      <td>2</td>\n",
       "      <td>30</td>\n",
       "      <td>3635.37667</td>\n",
       "    </tr>\n",
       "    <tr>\n",
       "      <th>2</th>\n",
       "      <td>1199</td>\n",
       "      <td>1998</td>\n",
       "      <td>12</td>\n",
       "      <td>7</td>\n",
       "      <td>3</td>\n",
       "      <td>0</td>\n",
       "      <td>3535.43333</td>\n",
       "    </tr>\n",
       "    <tr>\n",
       "      <th>3</th>\n",
       "      <td>1200</td>\n",
       "      <td>1998</td>\n",
       "      <td>12</td>\n",
       "      <td>7</td>\n",
       "      <td>3</td>\n",
       "      <td>30</td>\n",
       "      <td>3394.22167</td>\n",
       "    </tr>\n",
       "    <tr>\n",
       "      <th>4</th>\n",
       "      <td>1201</td>\n",
       "      <td>1998</td>\n",
       "      <td>12</td>\n",
       "      <td>7</td>\n",
       "      <td>4</td>\n",
       "      <td>0</td>\n",
       "      <td>3287.52500</td>\n",
       "    </tr>\n",
       "    <tr>\n",
       "      <th>...</th>\n",
       "      <td>...</td>\n",
       "      <td>...</td>\n",
       "      <td>...</td>\n",
       "      <td>...</td>\n",
       "      <td>...</td>\n",
       "      <td>...</td>\n",
       "      <td>...</td>\n",
       "    </tr>\n",
       "    <tr>\n",
       "      <th>382010</th>\n",
       "      <td>1794284</td>\n",
       "      <td>2020</td>\n",
       "      <td>9</td>\n",
       "      <td>20</td>\n",
       "      <td>22</td>\n",
       "      <td>0</td>\n",
       "      <td>3997.91000</td>\n",
       "    </tr>\n",
       "    <tr>\n",
       "      <th>382011</th>\n",
       "      <td>1794285</td>\n",
       "      <td>2020</td>\n",
       "      <td>9</td>\n",
       "      <td>20</td>\n",
       "      <td>22</td>\n",
       "      <td>30</td>\n",
       "      <td>3901.60000</td>\n",
       "    </tr>\n",
       "    <tr>\n",
       "      <th>382012</th>\n",
       "      <td>1794286</td>\n",
       "      <td>2020</td>\n",
       "      <td>9</td>\n",
       "      <td>20</td>\n",
       "      <td>23</td>\n",
       "      <td>0</td>\n",
       "      <td>3866.55000</td>\n",
       "    </tr>\n",
       "    <tr>\n",
       "      <th>382013</th>\n",
       "      <td>1794287</td>\n",
       "      <td>2020</td>\n",
       "      <td>9</td>\n",
       "      <td>20</td>\n",
       "      <td>23</td>\n",
       "      <td>30</td>\n",
       "      <td>4080.50000</td>\n",
       "    </tr>\n",
       "    <tr>\n",
       "      <th>382014</th>\n",
       "      <td>1794288</td>\n",
       "      <td>2020</td>\n",
       "      <td>9</td>\n",
       "      <td>21</td>\n",
       "      <td>0</td>\n",
       "      <td>0</td>\n",
       "      <td>4159.32000</td>\n",
       "    </tr>\n",
       "  </tbody>\n",
       "</table>\n",
       "<p>382015 rows × 7 columns</p>\n",
       "</div>"
      ],
      "text/plain": [
       "        Unnamed: 0  Year  Month_int  Day_int  Hour_int  Minute_int  \\\n",
       "0             1197  1998         12        7         2           0   \n",
       "1             1198  1998         12        7         2          30   \n",
       "2             1199  1998         12        7         3           0   \n",
       "3             1200  1998         12        7         3          30   \n",
       "4             1201  1998         12        7         4           0   \n",
       "...            ...   ...        ...      ...       ...         ...   \n",
       "382010     1794284  2020          9       20        22           0   \n",
       "382011     1794285  2020          9       20        22          30   \n",
       "382012     1794286  2020          9       20        23           0   \n",
       "382013     1794287  2020          9       20        23          30   \n",
       "382014     1794288  2020          9       21         0           0   \n",
       "\n",
       "        TOTALDEMAND  \n",
       "0        2239.46200  \n",
       "1        3635.37667  \n",
       "2        3535.43333  \n",
       "3        3394.22167  \n",
       "4        3287.52500  \n",
       "...             ...  \n",
       "382010   3997.91000  \n",
       "382011   3901.60000  \n",
       "382012   3866.55000  \n",
       "382013   4080.50000  \n",
       "382014   4159.32000  \n",
       "\n",
       "[382015 rows x 7 columns]"
      ]
     },
     "execution_count": 5,
     "metadata": {},
     "output_type": "execute_result"
    }
   ],
   "source": [
    "data"
   ]
  },
  {
   "cell_type": "code",
   "execution_count": 7,
   "metadata": {},
   "outputs": [
    {
     "data": {
      "image/png": "[encoded data removed]",
      "text/plain": [
       "<Figure size 432x288 with 2 Axes>"
      ]
     },
     "metadata": {
      "needs_background": "light"
     },
     "output_type": "display_data"
    }
   ],
   "source": [
    "#Build the AC and PAC graph for all the data\n",
    "fig, ax = plt.subplots(2,1)\n",
    "fig = sm.graphics.tsa.plot_acf(data.TOTALDEMAND, lags=500, ax=ax[0])\n",
    "fig = sm.graphics.tsa.plot_pacf(data.TOTALDEMAND, lags=500, ax=ax[1])\n",
    "plt.show()"
   ]
  },
  {
   "cell_type": "code",
   "execution_count": 8,
   "metadata": {},
   "outputs": [],
   "source": [
    "#Subset the data for a single time\n",
    "test=data[(data[\"Hour_int\"]==9)&(data[\"Minute_int\"]==30)]"
   ]
  },
  {
   "cell_type": "code",
   "execution_count": 15,
   "metadata": {},
   "outputs": [
    {
     "data": {
      "image/png": "[encoded data removed]",
      "text/plain": [
       "<Figure size 432x288 with 2 Axes>"
      ]
     },
     "metadata": {
      "needs_background": "light"
     },
     "output_type": "display_data"
    }
   ],
   "source": [
    "#Build the AC and PAC graphs for the single time\n",
    "fig, ax = plt.subplots(2,1)\n",
    "fig = sm.graphics.tsa.plot_acf(test.TOTALDEMAND, lags=50, ax=ax[0])\n",
    "fig = sm.graphics.tsa.plot_pacf(test.TOTALDEMAND, lags=50, ax=ax[1])\n",
    "plt.show()"
   ]
  },
  {
   "cell_type": "code",
   "execution_count": 17,
   "metadata": {},
   "outputs": [
    {
     "name": "stderr",
     "output_type": "stream",
     "text": [
      "C:\\Users\\Marly\\Anaconda3\\lib\\site-packages\\statsmodels\\tsa\\base\\tsa_model.py:214: ValueWarning: An unsupported index was provided and will be ignored when e.g. forecasting.\n",
      "  ' ignored when e.g. forecasting.', ValueWarning)\n",
      "C:\\Users\\Marly\\Anaconda3\\lib\\site-packages\\statsmodels\\tsa\\base\\tsa_model.py:214: ValueWarning: An unsupported index was provided and will be ignored when e.g. forecasting.\n",
      "  ' ignored when e.g. forecasting.', ValueWarning)\n"
     ]
    },
    {
     "name": "stdout",
     "output_type": "stream",
     "text": [
      "Optimization terminated successfully.\n",
      "         Current function value: 7.318639\n",
      "         Iterations: 2\n",
      "         Function evaluations: 70\n"
     ]
    },
    {
     "data": {
      "image/png": "[encoded data removed]",
      "text/plain": [
       "<Figure size 432x288 with 2 Axes>"
      ]
     },
     "metadata": {
      "needs_background": "light"
     },
     "output_type": "display_data"
    }
   ],
   "source": [
    "model = sm.tsa.statespace.SARIMAX(test.TOTALDEMAND, order=(0,1,1),seasonal_order=(0,1,1,7)).fit(max_iter=50, method='powell')\n",
    "res = model.resid\n",
    "fig, ax = plt.subplots(2,1)\n",
    "fig = sm.graphics.tsa.plot_acf(res, lags=50, ax=ax[0])\n",
    "fig = sm.graphics.tsa.plot_pacf(res, lags=50, ax=ax[1])\n",
    "plt.show()"
   ]
  }
 ],
 "metadata": {
  "kernelspec": {
   "display_name": "Python 3",
   "language": "python",
   "name": "python3"
  },
  "language_info": {
   "codemirror_mode": {
    "name": "ipython",
    "version": 3
   },
   "file_extension": ".py",
   "mimetype": "text/x-python",
   "name": "python",
   "nbconvert_exporter": "python",
   "pygments_lexer": "ipython3",
   "version": "3.6.4"
  }
 },
 "nbformat": 4,
 "nbformat_minor": 2
}
